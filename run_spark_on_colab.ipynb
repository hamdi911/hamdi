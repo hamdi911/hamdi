{
  "nbformat": 4,
  "nbformat_minor": 0,
  "metadata": {
    "colab": {
      "name": "Spark-on-Colaboratory.ipynb",
      "provenance": [],
      "include_colab_link": true
    },
    "kernelspec": {
      "name": "python3",
      "display_name": "Python 3"
    },
    "accelerator": "GPU"
  },
  "cells": [
    {
      "cell_type": "markdown",
      "metadata": {
        "id": "view-in-github",
        "colab_type": "text"
      },
      "source": [
        "<a href=\"https://colab.research.google.com/github/hamdi911/hamdi/blob/master/run_spark_on_colab.ipynb\" target=\"_parent\"><img src=\"https://colab.research.google.com/assets/colab-badge.svg\" alt=\"Open In Colab\"/></a>"
      ]
    },
    {
      "metadata": {
        "id": "kvD4HBMi0ohY"
      },
      "cell_type": "markdown",
      "source": [
        "# Install Java, Spark, and Findspark\n",
        "This installs Apache Spark 2.2.1, Java 8, and [Findspark](https://github.com/minrk/findspark), a library that makes it easy for Python to find Spark."
      ]
    },
    {
      "cell_type": "code",
      "source": [
        "from pyspark import SparkContext\n",
        "from pyspark.sql import SparkSession\n",
        "from pyspark.sql.types import StructType, StructField, StringType\n",
        "!pip install pyspark"
      ],
      "metadata": {
        "id": "b1UVxwFnNoju",
        "outputId": "3164441d-19b9-4178-dd42-70e06dc91d6b",
        "colab": {
          "base_uri": "https://localhost:8080/"
        }
      },
      "execution_count": 45,
      "outputs": [
        {
          "output_type": "stream",
          "name": "stdout",
          "text": [
            "Requirement already satisfied: pyspark in /usr/local/lib/python3.10/dist-packages (3.5.3)\n",
            "Requirement already satisfied: py4j==0.10.9.7 in /usr/local/lib/python3.10/dist-packages (from pyspark) (0.10.9.7)\n"
          ]
        }
      ]
    },
    {
      "cell_type": "code",
      "source": [
        "# Initialiser SparkSession\n",
        "spark = SparkSession.builder.appName(\"ClientsAnalysis\").getOrCreate()\n",
        "print(spark.version)\n",
        "\n",
        "# Définir le schéma\n",
        "schema = StructType([\n",
        "    StructField(\"client_id\", StringType(), True),\n",
        "    StructField(\"name\", StringType(), True),\n",
        "    StructField(\"city\", StringType(), True),\n",
        "    StructField(\"state\", StringType(), True),\n",
        "    StructField(\"zip_code\", StringType(), True),\n",
        "])"
      ],
      "metadata": {
        "id": "sKfmgJRWDa6Y",
        "outputId": "3bdbde03-b132-43a5-a667-e4ef7788015f",
        "colab": {
          "base_uri": "https://localhost:8080/"
        }
      },
      "execution_count": 48,
      "outputs": [
        {
          "output_type": "stream",
          "name": "stdout",
          "text": [
            "3.5.3\n"
          ]
        }
      ]
    },
    {
      "cell_type": "code",
      "source": [
        "# Charger le fichier texte\n",
        "file_path = \"/clients.txt\"\n",
        "dfClients = spark.read.csv(file_path, schema=schema, sep=\",\", header=False)"
      ],
      "metadata": {
        "id": "rtZngQf4DbDo"
      },
      "execution_count": 27,
      "outputs": []
    },
    {
      "cell_type": "code",
      "source": [
        "# Afficher le contenu du DataFrame\n",
        "dfClients.show()"
      ],
      "metadata": {
        "id": "iMPzgGqoDbG3",
        "outputId": "35000e89-e115-4867-c498-efb1c7ed3d18",
        "colab": {
          "base_uri": "https://localhost:8080/"
        }
      },
      "execution_count": 28,
      "outputs": [
        {
          "output_type": "stream",
          "name": "stdout",
          "text": [
            "+---------+---------------+------------+-----+--------+\n",
            "|client_id|           name|        city|state|zip_code|\n",
            "+---------+---------------+------------+-----+--------+\n",
            "|      100|     John Smith|      Austin|   TX|   78727|\n",
            "|      200|    Joe Johnson|      Dallas|   TX|   75201|\n",
            "|      300|      Bob Jones|     Houston|   TX|   77028|\n",
            "|      400|     Andy Davis| San Antonio|   TX|   78227|\n",
            "|      500| James Williams|      Austin|   TX|   78727|\n",
            "+---------+---------------+------------+-----+--------+\n",
            "\n"
          ]
        }
      ]
    },
    {
      "cell_type": "code",
      "source": [
        "# Print le shéma DF\n",
        "dfClients.registerTempTable(\"clients\")"
      ],
      "metadata": {
        "id": "JHQ3fQ7IDbJ7",
        "outputId": "30f1808e-8057-4aa1-ded9-f2b9c491978e",
        "colab": {
          "base_uri": "https://localhost:8080/"
        }
      },
      "execution_count": 29,
      "outputs": [
        {
          "output_type": "stream",
          "name": "stderr",
          "text": [
            "/usr/local/lib/python3.10/dist-packages/pyspark/sql/dataframe.py:329: FutureWarning: Deprecated in 2.0, use createOrReplaceTempView instead.\n",
            "  warnings.warn(\"Deprecated in 2.0, use createOrReplaceTempView instead.\", FutureWarning)\n"
          ]
        }
      ]
    },
    {
      "cell_type": "code",
      "source": [
        "# Sélectionnez la colonne du nom du client\n",
        "dfClients.select(\"name\").show()"
      ],
      "metadata": {
        "id": "XBUpuVh9DbMn",
        "outputId": "d07b73c4-4ce2-4221-99be-c16fd7be9097",
        "colab": {
          "base_uri": "https://localhost:8080/"
        }
      },
      "execution_count": 30,
      "outputs": [
        {
          "output_type": "stream",
          "name": "stdout",
          "text": [
            "+---------------+\n",
            "|           name|\n",
            "+---------------+\n",
            "|     John Smith|\n",
            "|    Joe Johnson|\n",
            "|      Bob Jones|\n",
            "|     Andy Davis|\n",
            "| James Williams|\n",
            "+---------------+\n",
            "\n"
          ]
        }
      ]
    },
    {
      "cell_type": "code",
      "source": [
        "# Sélectionnez les colonnes nom du client et ville\n",
        "dfClients.select(\"name\", \"city\").show()"
      ],
      "metadata": {
        "id": "Jk9siSH1DbPu",
        "outputId": "d70ba432-d64f-4162-a2ac-10010a5b0b6c",
        "colab": {
          "base_uri": "https://localhost:8080/"
        }
      },
      "execution_count": 31,
      "outputs": [
        {
          "output_type": "stream",
          "name": "stdout",
          "text": [
            "+---------------+------------+\n",
            "|           name|        city|\n",
            "+---------------+------------+\n",
            "|     John Smith|      Austin|\n",
            "|    Joe Johnson|      Dallas|\n",
            "|      Bob Jones|     Houston|\n",
            "|     Andy Davis| San Antonio|\n",
            "| James Williams|      Austin|\n",
            "+---------------+------------+\n",
            "\n"
          ]
        }
      ]
    },
    {
      "cell_type": "code",
      "source": [
        "# Sélectionnez un client par identifiant\n",
        "dfClients.filter(dfClients.client_id ==\"500\").show()"
      ],
      "metadata": {
        "id": "p4jefR6CDbSX",
        "outputId": "4a80283a-d09b-470e-b13d-f7edd9a0ea64",
        "colab": {
          "base_uri": "https://localhost:8080/"
        }
      },
      "execution_count": 32,
      "outputs": [
        {
          "output_type": "stream",
          "name": "stdout",
          "text": [
            "+---------+---------------+-------+-----+--------+\n",
            "|client_id|           name|   city|state|zip_code|\n",
            "+---------+---------------+-------+-----+--------+\n",
            "|      500| James Williams| Austin|   TX|   78727|\n",
            "+---------+---------------+-------+-----+--------+\n",
            "\n"
          ]
        }
      ]
    },
    {
      "cell_type": "code",
      "source": [
        "# Compter les clients par code postal\n",
        "dfClients.groupBy(\"zip_code\").count().show()"
      ],
      "metadata": {
        "id": "jzorqS9dDbUv",
        "outputId": "d3221424-4e07-4caa-c91f-8a391c8650f6",
        "colab": {
          "base_uri": "https://localhost:8080/"
        }
      },
      "execution_count": 38,
      "outputs": [
        {
          "output_type": "stream",
          "name": "stdout",
          "text": [
            "+--------+-----+\n",
            "|zip_code|count|\n",
            "+--------+-----+\n",
            "|   75201|    1|\n",
            "|   78227|    1|\n",
            "|   78727|    2|\n",
            "|   77028|    1|\n",
            "+--------+-----+\n",
            "\n"
          ]
        }
      ]
    },
    {
      "cell_type": "code",
      "source": [
        "# Créer un SQLContext du SparkContext existant\n",
        "val sqlContext = new org.apache.spark.sql.SQLContext(sc)"
      ],
      "metadata": {
        "id": "o3YVbm9-RXXu",
        "outputId": "ca478b98-2aad-4a4e-cc1f-901ff8ad4d9a",
        "colab": {
          "base_uri": "https://localhost:8080/",
          "height": 106
        }
      },
      "execution_count": 53,
      "outputs": [
        {
          "output_type": "error",
          "ename": "SyntaxError",
          "evalue": "invalid syntax (<ipython-input-53-f9e4d879f861>, line 2)",
          "traceback": [
            "\u001b[0;36m  File \u001b[0;32m\"<ipython-input-53-f9e4d879f861>\"\u001b[0;36m, line \u001b[0;32m2\u001b[0m\n\u001b[0;31m    val sqlContext = new org.apache.spark.sql.SQLContext(sc)\u001b[0m\n\u001b[0m        ^\u001b[0m\n\u001b[0;31mSyntaxError\u001b[0m\u001b[0;31m:\u001b[0m invalid syntax\n"
          ]
        }
      ]
    },
    {
      "cell_type": "code",
      "source": [],
      "metadata": {
        "id": "DV1qKMchG0rv"
      },
      "execution_count": null,
      "outputs": []
    },
    {
      "cell_type": "code",
      "source": [],
      "metadata": {
        "id": "dTUxVs2LG0uY"
      },
      "execution_count": null,
      "outputs": []
    },
    {
      "cell_type": "code",
      "source": [],
      "metadata": {
        "id": "aRpVI_nlG0xB"
      },
      "execution_count": null,
      "outputs": []
    },
    {
      "metadata": {
        "id": "fUhBhrGmyAvs"
      },
      "cell_type": "code",
      "source": [],
      "execution_count": null,
      "outputs": []
    },
    {
      "metadata": {
        "id": "b4Kjvk_h1AHl"
      },
      "cell_type": "markdown",
      "source": [
        "# Set Environment Variables\n",
        "Set the locations where Spark and Java are installed."
      ]
    },
    {
      "metadata": {
        "id": "8Xnb_ePUyQIL"
      },
      "cell_type": "code",
      "source": [],
      "execution_count": null,
      "outputs": []
    },
    {
      "metadata": {
        "id": "NwU28K5f1H3P"
      },
      "cell_type": "markdown",
      "source": [
        "# Start a SparkSession\n",
        "This will start a local Spark session."
      ]
    },
    {
      "metadata": {
        "id": "zgReRGl0y23D"
      },
      "cell_type": "code",
      "source": [],
      "execution_count": null,
      "outputs": []
    },
    {
      "metadata": {
        "id": "T3ULPx4Y1LiR"
      },
      "cell_type": "markdown",
      "source": [
        "# Use Spark!\n",
        "That's all there is to it - you're ready to use Spark!"
      ]
    },
    {
      "metadata": {
        "id": "XJp8ZI-VzYEz"
      },
      "cell_type": "code",
      "source": [],
      "execution_count": 16,
      "outputs": []
    },
    {
      "metadata": {
        "id": "PZkw_gPEQvId"
      },
      "cell_type": "code",
      "source": [],
      "execution_count": null,
      "outputs": []
    }
  ]
}